{
 "cells": [
  {
   "cell_type": "markdown",
   "id": "ec94e372",
   "metadata": {},
   "source": [
    "# Ejercicio proyecto: Desarrollo de Soluciones en IA training - Reto proyecto 2. Aplica técnicas de aumento de imágenes \n",
    "## Autor: Sergio Fernández Munguía\n",
    "### 1. Aumento de imágenes"
   ]
  },
  {
   "cell_type": "code",
   "execution_count": null,
   "id": "fbc9eb51",
   "metadata": {},
   "outputs": [],
   "source": []
  }
 ],
 "metadata": {
  "language_info": {
   "name": "python"
  }
 },
 "nbformat": 4,
 "nbformat_minor": 5
}
