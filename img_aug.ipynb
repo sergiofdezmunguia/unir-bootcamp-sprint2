{
 "cells": [
  {
   "cell_type": "markdown",
   "id": "ec94e372",
   "metadata": {},
   "source": [
    "# Ejercicio proyecto: Desarrollo de Soluciones en IA training - Reto proyecto 2. Aplica técnicas de aumento de imágenes \n",
    "## Autor: Sergio Fernández Munguía\n",
    "### 1. Aumento de imágenes"
   ]
  },
  {
   "cell_type": "code",
   "execution_count": 1,
   "id": "fbc9eb51",
   "metadata": {},
   "outputs": [],
   "source": [
    "import pandas as pd\n",
    "import numpy as np\n",
    "import matplotlib.pyplot as plt\n",
    "import torch\n",
    "import torchvision.transforms as transforms\n",
    "from torchvision.transforms import functional as F\n",
    "from sklearn.model_selection import train_test_split\n",
    "from torch.utils.data import DataLoader, TensorDataset\n",
    "import torch.nn as nn\n",
    "import torch.optim as optim"
   ]
  },
  {
   "cell_type": "code",
   "execution_count": 2,
   "id": "1bd80ebd",
   "metadata": {},
   "outputs": [],
   "source": [
    "# Cargar datos CSV\n",
    "ruta = 'sign_mnist_train/sign_mnist_train.csv'\n",
    "data = pd.read_csv(ruta)\n",
    "y = data['label'].values\n",
    "data = data.drop(columns='label').to_numpy()\n",
    "X = data.reshape(-1, 28, 28).astype(np.float32) / 255.0"
   ]
  },
  {
   "cell_type": "code",
   "execution_count": 3,
   "id": "6c80d729",
   "metadata": {},
   "outputs": [
    {
     "data": {
      "image/png": "[encoded data removed]",
      "text/plain": [
       "<Figure size 1500x400 with 7 Axes>"
      ]
     },
     "metadata": {},
     "output_type": "display_data"
    }
   ],
   "source": [
    "# Seleccionar una imagen\n",
    "img = X[0]\n",
    "img_tensor = torch.tensor(img).unsqueeze(0).unsqueeze(0)  # (1, 1, 28, 28)\n",
    "\n",
    "# Definir transformaciones\n",
    "transformaciones = [\n",
    "    transforms.RandomRotation(30),\n",
    "    transforms.RandomAffine(degrees=0, translate=(0.2, 0.2)),\n",
    "    transforms.RandomResizedCrop(28, scale=(0.8, 1.0)),\n",
    "    transforms.RandomHorizontalFlip(p=1.0),\n",
    "    transforms.ColorJitter(brightness=0.5),\n",
    "    transforms.RandomErasing(p=1.0, scale=(0.02, 0.33), ratio=(0.3, 3.3))\n",
    "]\n",
    "\n",
    "# Aplicar transformaciones y visualizar\n",
    "fig, axes = plt.subplots(1, 7, figsize=(15, 4))\n",
    "axes[0].imshow(img, cmap='gray')\n",
    "axes[0].set_title('Original')\n",
    "axes[0].axis('off')\n",
    "\n",
    "for i, transform in enumerate(transformaciones):\n",
    "    augmented_img = transform(img_tensor.clone()).squeeze().numpy()\n",
    "    axes[i + 1].imshow(augmented_img, cmap='gray')\n",
    "    axes[i + 1].set_title(f'Trans {i+1}')\n",
    "    axes[i + 1].axis('off')\n",
    "\n",
    "plt.tight_layout()\n",
    "plt.show()"
   ]
  },
  {
   "cell_type": "markdown",
   "id": "d50b15f9",
   "metadata": {},
   "source": [
    "### 2. CNN para clasificación"
   ]
  },
  {
   "cell_type": "code",
   "execution_count": 4,
   "id": "27e3528b",
   "metadata": {},
   "outputs": [],
   "source": [
    "# Preparar tensores\n",
    "X_tensor = torch.tensor(X).unsqueeze(1)\n",
    "y_tensor = torch.tensor(y)\n",
    "\n",
    "# División en train y val\n",
    "X_train, X_val, y_train, y_val = train_test_split(X_tensor, y_tensor, test_size=0.2, random_state=42)\n",
    "\n",
    "train_ds = TensorDataset(X_train, y_train)\n",
    "val_ds = TensorDataset(X_val, y_val)\n",
    "train_loader = DataLoader(train_ds, batch_size=32, shuffle=True, num_workers=2)\n",
    "val_loader = DataLoader(val_ds, batch_size=32, num_workers=2)\n"
   ]
  },
  {
   "cell_type": "code",
   "execution_count": 5,
   "id": "6ddcc440",
   "metadata": {},
   "outputs": [],
   "source": [
    "# Definir CNN\n",
    "class CNN(nn.Module):\n",
    "    def __init__(self):\n",
    "        super(CNN, self).__init__()\n",
    "        self.conv1 = nn.Conv2d(1, 16, kernel_size=3, stride=1, padding=1)\n",
    "        self.pool = nn.MaxPool2d(kernel_size=2, stride=2)\n",
    "        self.conv2 = nn.Conv2d(16, 32, kernel_size=3, stride=1, padding=1)\n",
    "        self.fc1 = nn.Linear(32 * 7 * 7, 128)\n",
    "        self.fc2 = nn.Linear(128, 25)  # 25 clases (sin J ni Z)\n",
    "        self.relu = nn.ReLU()\n",
    "\n",
    "    def forward(self, x):\n",
    "        x = self.pool(self.relu(self.conv1(x)))  # -> (16, 14, 14)\n",
    "        x = self.pool(self.relu(self.conv2(x)))  # -> (32, 7, 7)\n",
    "        x = x.view(-1, 32 * 7 * 7)\n",
    "        x = self.relu(self.fc1(x))\n",
    "        return self.fc2(x)\n",
    "\n",
    "model = CNN()\n",
    "criterion = nn.CrossEntropyLoss()\n",
    "optimizer = optim.Adam(model.parameters(), lr=0.001)"
   ]
  },
  {
   "cell_type": "code",
   "execution_count": 6,
   "id": "cf22cd37",
   "metadata": {},
   "outputs": [
    {
     "name": "stdout",
     "output_type": "stream",
     "text": [
      "Época 1, Pérdida entrenamiento: 1.2727\n",
      "Precisión validación: 0.8620\n",
      "Época 2, Pérdida entrenamiento: 0.2363\n",
      "Precisión validación: 0.9743\n",
      "Época 3, Pérdida entrenamiento: 0.0533\n",
      "Precisión validación: 0.9989\n",
      "Época 4, Pérdida entrenamiento: 0.0142\n",
      "Precisión validación: 0.9993\n",
      "Época 5, Pérdida entrenamiento: 0.0321\n",
      "Precisión validación: 1.0000\n"
     ]
    }
   ],
   "source": [
    "# Entrenar el modelo\n",
    "for epoch in range(5):\n",
    "    model.train()\n",
    "    running_loss = 0.0\n",
    "    for xb, yb in train_loader:\n",
    "        preds = model(xb)\n",
    "        loss = criterion(preds, yb)\n",
    "        optimizer.zero_grad()\n",
    "        loss.backward()\n",
    "        optimizer.step()\n",
    "        running_loss += loss.item()\n",
    "    print(f\"Época {epoch+1}, Pérdida entrenamiento: {running_loss/len(train_loader):.4f}\")\n",
    "\n",
    "    # Validación\n",
    "    model.eval()\n",
    "    correct, total = 0, 0\n",
    "    with torch.no_grad():\n",
    "        for xb, yb in val_loader:\n",
    "            preds = model(xb)\n",
    "            pred_labels = preds.argmax(dim=1)\n",
    "            correct += (pred_labels == yb).sum().item()\n",
    "            total += yb.size(0)\n",
    "    acc = correct / total\n",
    "    print(f\"Precisión validación: {acc:.4f}\")"
   ]
  }
 ],
 "metadata": {
  "kernelspec": {
   "display_name": ".unir",
   "language": "python",
   "name": "python3"
  },
  "language_info": {
   "codemirror_mode": {
    "name": "ipython",
    "version": 3
   },
   "file_extension": ".py",
   "mimetype": "text/x-python",
   "name": "python",
   "nbconvert_exporter": "python",
   "pygments_lexer": "ipython3",
   "version": "3.11.12"
  }
 },
 "nbformat": 4,
 "nbformat_minor": 5
}
